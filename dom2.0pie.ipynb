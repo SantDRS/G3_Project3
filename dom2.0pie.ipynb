{
 "cells": [
  {
   "cell_type": "code",
   "execution_count": 18,
   "metadata": {},
   "outputs": [],
   "source": [
    "import matplotlib.pyplot as plt\n",
    "import pandas as pd\n"
   ]
  },
  {
   "cell_type": "code",
   "execution_count": 19,
   "metadata": {},
   "outputs": [],
   "source": [
    "df =  pd.read_csv(\"../G3_PROJECT3/data/filteredWine.csv\")\n",
    "\n"
   ]
  },
  {
   "cell_type": "code",
   "execution_count": 42,
   "metadata": {},
   "outputs": [
    {
     "data": {
      "text/plain": [
       "0       United States\n",
       "1       United States\n",
       "2       United States\n",
       "3       United States\n",
       "4       United States\n",
       "            ...      \n",
       "1084           France\n",
       "1085           France\n",
       "1086            Italy\n",
       "1087          Germany\n",
       "1088         Portugal\n",
       "Name: country, Length: 1089, dtype: object"
      ]
     },
     "execution_count": 42,
     "metadata": {},
     "output_type": "execute_result"
    }
   ],
   "source": [
    "country_data = df[\"country\"]\n",
    "country_data.head(10000)\n"
   ]
  },
  {
   "cell_type": "code",
   "execution_count": 150,
   "metadata": {},
   "outputs": [
    {
     "name": "stdout",
     "output_type": "stream",
     "text": [
      "['wine type', 'Red', 'Red', 'Red', 'Red', 'Red', 'Red', 'Red', 'Red', 'Red', 'Red', 'Red', 'Red', 'Red', 'Red', 'Red', 'Red', 'Red', 'Red', 'Red', 'Red', 'Red', 'Red', 'Red', 'Red', 'Red', 'Red', 'Red', 'Red', 'Red', 'Red', 'Red', 'Red', 'Red', 'Red', 'Red', 'Red', 'Red', 'Red', 'Red', 'Red', 'Red', 'Red', 'Red', 'Red', 'Red', 'Red', 'Red', 'Red', 'Red', 'Red', 'Red', 'Red', 'Red', 'Red', 'Red', 'Red', 'Red', 'Red', 'Red', 'Red', 'Red', 'Red', 'Red', 'Red', 'Red', 'Red', 'Red', 'Red', 'Red', 'Red', 'Red', 'Red', 'Red', 'Red', 'Red', 'Red', 'Red', 'Red', 'Red', 'Red', 'Red', 'Red', 'Red', 'Red', 'Red', 'Red', 'Red', 'Red', 'Red', 'Red', 'Red', 'Red', 'Red', 'Red', 'Red', 'Red', 'Red', 'Red', 'Red', 'Red', 'Red', 'Red', 'Red', 'Red', 'Red', 'Red', 'Red', 'Red', 'Red', 'Red', 'Red', 'Red', 'Red', 'Red', 'Red', 'Red', 'Red', 'Red', 'Red', 'Red', 'Red', 'Red', 'Red', 'Red', 'Red', 'Red', 'Red', 'Red', 'Red', 'Red', 'Red', 'Red', 'Red', 'Red', 'Red', 'Red', 'Red', 'Red', 'Red', 'Red', 'Red', 'Red', 'Red', 'Red', 'Red', 'Red', 'Red', 'Red', 'Red', 'Red', 'Red', 'Red', 'Red', 'Red', 'Red', 'Red', 'Red', 'Red', 'Red', 'Red', 'Red', 'Red', 'Red', 'Red', 'Red', 'Red', 'Red', 'Red', 'Red', 'Red', 'Red', 'Red', 'Red', 'Red', 'Red', 'Red', 'Red', 'Red', 'Red', 'Red', 'Red', 'Red', 'Red', 'Red', 'Red', 'Red', 'Red', 'Red', 'Red', 'Red', 'Red', 'Red', 'Red', 'Red', 'Red', 'Red', 'Red', 'Red', 'Red', 'Red', 'Red', 'Red', 'Red', 'Red', 'Red', 'Red', 'Red', 'Red', 'Red', 'Red', 'White', 'White', 'White', 'White', 'White', 'White', 'White', 'White', 'White', 'White', 'White', 'White', 'White', 'White', 'White', 'White', 'White', 'White', 'White', 'White', 'White', 'White', 'White', 'White', 'White', 'White', 'White', 'White', 'White', 'White', 'White', 'White', 'White', 'White', 'White', 'White', 'White', 'White', 'White', 'White', 'White', 'White', 'White', 'White', 'White', 'White', 'White', 'White', 'White', 'White', 'White', 'White', 'White', 'White', 'White', 'White', 'White', 'White', 'White', 'White', 'White', 'White', 'White', 'White', 'White', 'White', 'White', 'White', 'White', 'White', 'White', 'White', 'White', 'White', 'White', 'White', 'White', 'White', 'White', 'White', 'White', 'White', 'White', 'White', 'White', 'White', 'White', 'White', 'White', 'White', 'White', 'White', 'White', 'White', 'White', 'White', 'White', 'White', 'White', 'White', 'White', 'White', 'White', 'White', 'White', 'White', 'White', 'White', 'White', 'White', 'White', 'White', 'White', 'White', 'White', 'White', 'White', 'White', 'White', 'White', 'White', 'White', 'White', 'White', 'White', 'White', 'White', 'White', 'White', 'White', 'White', 'White', 'White', 'White', 'White', 'White', 'White', 'White', 'White', 'White', 'White', 'White', 'White', 'White', 'White', 'White', 'White', 'White', 'White', 'White', 'Rose', 'Rose', 'Rose', 'Rose', 'Rose', 'Rose', 'Rose', 'Rose', 'Rose', 'Rose', 'Rose', 'Rose', 'Rose', 'Rose', 'Rose', 'Rose', 'Rose', 'Rose', 'Rose', 'Rose', 'Rose', 'Rose', 'Rose', 'Rose', 'Rose', 'Rose', 'Rose', 'Rose', 'Rose', 'Rose', 'Rose', 'Rose', 'Rose', 'Rose', 'Rose', 'Rose', 'Rose', 'Rose', 'Rose', 'Rose', 'Rose', 'Rose', 'Rose', 'Rose', 'Rose', 'Rose', 'Rose', 'Rose', 'Rose', 'Rose', 'Rose', 'Rose', 'Rose', 'Rose', 'Rose', 'Rose', 'Rose', 'Rose', 'Rose', 'Rose', 'Rose', 'Rose', 'Rose', 'Rose', 'Rose', 'Rose', 'Rose', 'Sparkling', 'Sparkling', 'Sparkling', 'Sparkling', 'Sparkling', 'Sparkling', 'Sparkling', 'Sparkling', 'Sparkling', 'Sparkling', 'Sparkling', 'Sparkling', 'Sparkling', 'Sparkling', 'Sparkling', 'Sparkling', 'Sparkling', 'Sparkling', 'Sparkling', 'Sparkling', 'Sparkling', 'Sparkling', 'Sparkling', 'Sparkling', 'Sparkling', 'Sparkling', 'Sparkling', 'Sparkling', 'Sparkling', 'Sparkling', 'Sparkling', 'Sparkling', 'Sparkling', 'Sparkling', 'Sparkling', 'Sparkling', 'Sparkling', 'Sparkling', 'Sparkling', 'Sparkling', 'Sparkling', 'Sparkling', 'Sparkling', 'Sparkling', 'Sparkling', 'Sparkling', 'Sparkling', 'Sparkling', 'Sparkling', 'Sparkling', 'Sparkling', 'Sparkling', 'Sparkling', 'Sparkling', 'Sparkling', 'Sparkling', 'Sparkling', 'Sparkling', 'Sparkling', 'Sparkling', 'Sparkling', 'Sparkling', 'Sparkling', 'Sparkling', 'Sparkling', 'Sparkling', 'Sparkling', 'Sparkling', 'Sparkling', 'Sparkling', 'Sparkling', 'Sparkling', 'Sparkling', 'Sparkling', 'Sparkling', 'Sparkling', 'Sparkling', 'Sparkling', 'Sparkling', 'Sparkling', 'Sparkling', 'Sparkling', 'Sparkling', 'Sparkling', 'Sparkling', 'Sparkling', 'Sparkling', 'Sparkling', 'Sparkling', 'Sparkling', 'Sparkling', 'Sparkling', 'Sparkling', 'Sparkling', 'Sparkling', 'Sparkling', 'Sparkling', 'Sparkling', 'Sparkling', 'Sparkling', 'Sparkling', 'Sparkling', 'Sparkling', 'Sparkling', 'Sparkling', 'Sparkling', 'Sparkling', 'Sparkling', 'Sparkling', 'Sparkling', 'Sparkling', 'Sparkling', 'Sparkling', 'Sparkling', 'Sparkling', 'Sparkling', 'Sparkling', 'Sparkling', 'Sparkling', 'Sparkling', 'Sparkling', 'Sparkling', 'Sparkling', 'Sparkling', 'Sparkling', 'Sparkling', 'Sparkling', 'Sparkling', 'Sparkling', 'Sparkling', 'Sparkling', 'Sparkling', 'Sparkling', 'Sparkling', 'Sparkling', 'Sparkling', 'Sparkling', 'Sparkling', 'Sparkling', 'Sparkling', 'Sparkling', 'Sparkling', 'Sparkling', 'Sparkling', 'Sparkling', 'Sparkling', 'Sparkling', 'Sparkling', 'Sparkling', 'Sparkling', 'Sparkling', 'Sparkling', 'Sparkling', 'Sparkling', 'Sparkling', 'Sparkling', 'Sparkling', 'Sparkling', 'Sparkling', 'Sparkling', 'Sparkling', 'Sparkling', 'Sparkling', 'Sparkling', 'Sparkling', 'Sparkling', 'Sparkling', 'Sparkling', 'Sparkling', 'Sparkling', 'Sparkling', 'Sparkling', 'Sparkling', 'Sparkling', 'Sparkling', 'Sparkling', 'Sparkling', 'Sparkling', 'Sparkling', 'Sparkling', 'Sparkling', 'Sparkling', 'Sparkling', 'Sparkling', 'Sparkling', 'Sparkling', 'Sparkling', 'Sparkling', 'Sparkling', 'Sparkling', 'Sparkling', 'Sparkling', 'Sparkling', 'Sparkling', 'Sparkling', 'Sparkling', 'Sparkling', 'Sparkling', 'Sparkling', 'Sparkling', 'Sparkling', 'Sparkling', 'Sparkling', 'Sparkling', 'Sparkling', 'Sparkling', 'Sparkling', 'Sparkling', 'Sparkling', 'Sparkling', 'Sparkling', 'Sparkling', 'Sparkling', 'Sparkling', 'Sparkling', 'Sparkling', 'Sparkling', 'Sparkling', 'Sparkling', 'Sparkling', 'Sparkling', 'Sparkling', 'Sparkling', 'Sparkling', 'Sparkling', 'Sparkling', 'Sparkling', 'Sparkling', 'Sparkling', 'Sparkling', 'Sparkling', 'Sparkling', 'Sparkling', 'Sparkling', 'Sparkling', 'Sparkling', 'Sparkling', 'Sparkling', 'Sparkling', 'Sparkling', 'Sparkling', 'Sparkling', 'Sparkling', 'Sparkling', 'Sparkling', 'Sparkling', 'Sparkling', 'Sparkling', 'Sparkling', 'Sparkling', 'Sparkling', 'Sparkling', 'Sparkling', 'Sparkling', 'Sparkling', 'Sparkling', 'Sparkling', 'Sparkling', 'Sparkling', 'Sparkling', 'Sparkling', 'Sparkling', 'Sparkling', 'Sparkling', 'Sparkling', 'Sparkling', 'Sparkling', 'Sparkling', 'Sparkling', 'Sparkling', 'Sparkling', 'Sparkling', 'Sparkling', 'Sparkling', 'Sparkling', 'Sparkling', 'Sparkling', 'Sparkling', 'Sparkling', 'Sparkling', 'Sparkling', 'Sparkling', 'Sparkling', 'Sparkling', 'Sparkling', 'Sparkling', 'Sparkling', 'Sparkling', 'Sparkling', 'Sparkling', 'Sparkling', 'Sparkling', 'Sparkling', 'Sparkling', 'Sparkling', 'Sparkling', 'Sparkling', 'Sparkling', 'Sparkling', 'Sparkling', 'Sparkling', 'Sparkling', 'Sparkling', 'Sparkling', 'Sparkling', 'Sparkling', 'Sparkling', 'Sparkling', 'Sparkling', 'Sparkling', 'Sparkling', 'Sparkling', 'Sparkling', 'Sparkling', 'Sparkling', 'Sparkling', 'Sparkling', 'Sparkling', 'Sparkling', 'Sparkling', 'Sparkling', 'Sparkling', 'Sparkling', 'Sparkling', 'Sparkling', 'Sparkling', 'Sparkling', 'Sparkling', 'Sparkling', 'Sparkling', 'Sparkling', 'Sparkling', 'Sparkling', 'Sparkling', 'Sparkling', 'Sparkling', 'Sparkling', 'Sparkling', 'Sparkling', 'Sparkling', 'Sparkling', 'Sparkling', 'Sparkling', 'Sparkling', 'Sparkling', 'Sparkling', 'Sparkling', 'Sparkling', 'Sparkling', 'Sparkling', 'Sparkling', 'Sparkling', 'Sparkling', 'Sparkling', 'Sparkling', 'Sparkling', 'Sparkling', 'Sparkling', 'Sparkling', 'Sparkling', 'Sparkling', 'Sparkling', 'Sparkling', 'Sparkling', 'Sparkling', 'Sparkling', 'Sparkling', 'Sparkling', 'Sparkling', 'Sparkling', 'Sparkling', 'Sparkling', 'Sparkling', 'Sparkling', 'Sparkling', 'Sparkling', 'Sparkling', 'Sparkling', 'Sparkling', 'Sparkling', 'Sparkling', 'Sparkling', 'Sparkling', 'Sparkling', 'Sparkling', 'Sparkling', 'Sparkling', 'Sparkling', 'Sparkling', 'Sparkling', 'Sparkling', 'Sparkling', 'Sparkling', 'Sparkling', 'Sparkling', 'Sparkling', 'Sparkling', 'Sparkling', 'Sparkling', 'Sparkling', 'Sparkling', 'Sparkling', 'Sparkling', 'Sparkling', 'Sparkling', 'Sparkling', 'Sparkling', 'Sparkling', 'Sparkling', 'Sparkling', 'Sparkling', 'Sparkling', 'Sparkling', 'Sparkling', 'Sparkling', 'Sparkling', 'Sparkling', 'Sparkling', 'Sparkling', 'Sparkling', 'Sparkling', 'Sparkling', 'Sparkling', 'Sparkling', 'Sparkling', 'Sparkling', 'Sparkling', 'Sparkling', 'Sparkling', 'Sparkling', 'Sparkling', 'Sparkling', 'Sparkling', 'Sparkling', 'Sparkling', 'Sparkling', 'Sparkling', 'Sparkling', 'Sparkling', 'Sparkling', 'Sparkling', 'Sparkling', 'Sparkling', 'Sparkling', 'Sparkling', 'Sparkling', 'Sparkling', 'Sparkling', 'Sparkling', 'Sparkling', 'Sparkling', 'Sparkling', 'Sparkling', 'Sparkling', 'Sparkling', 'Sparkling', 'Sparkling', 'Sparkling', 'Sparkling', 'Sparkling', 'Sparkling', 'Sparkling', 'Sparkling', 'Sparkling', 'Sparkling', 'Sparkling', 'Sparkling', 'Sparkling', 'Sparkling', 'Sparkling', 'Sparkling', 'Sparkling', 'Sparkling', 'Sparkling', 'Sparkling', 'Sparkling', 'Sparkling', 'Sparkling', 'Sparkling', 'Sparkling', 'Sparkling', 'Sparkling', 'Sparkling', 'Sparkling', 'Sparkling', 'Sparkling', 'Sparkling', 'Sparkling', 'Sparkling', 'Sparkling', 'Sparkling', 'Sparkling', 'Sparkling', 'Sparkling', 'Sparkling', 'Sparkling', 'Sparkling', 'Sparkling', 'Sparkling', 'Sparkling', 'Sparkling', 'Sparkling', 'Sparkling', 'Sparkling', 'Sparkling', 'Sparkling', 'Sparkling', 'Sparkling', 'Sparkling', 'Sparkling', 'Sparkling', 'Sparkling', 'Sparkling', 'Sparkling', 'Sparkling', 'Sparkling', 'Sparkling', 'Sparkling', 'Sparkling', 'Sparkling', 'Sparkling', 'Sparkling', 'Sparkling', 'Sparkling', 'Sparkling', 'Sparkling', 'Sparkling', 'Sparkling', 'Sparkling', 'Sparkling', 'Sparkling', 'Sparkling', 'Sparkling', 'Sparkling', 'Sparkling', 'Sparkling', 'Sparkling', 'Sparkling', 'Sparkling', 'Sparkling', 'Sparkling', 'Sparkling', 'Sparkling', 'Sparkling', 'Sparkling', 'Sparkling', 'Sparkling', 'Sparkling', 'Sparkling', 'Sparkling', 'Sparkling', 'Sparkling', 'Sparkling', 'Sparkling', 'Sparkling', 'Sparkling', 'Sparkling', 'Sparkling', 'Sparkling', 'Sparkling', 'Sparkling', 'Sparkling', 'Sparkling', 'Sparkling', 'Sparkling', 'Sparkling', 'Sparkling', 'Sparkling', 'Sparkling', 'Sparkling', 'Sparkling', 'Sparkling', 'Sparkling', 'Sparkling', 'Sparkling', 'Sparkling', 'Sparkling', 'Sparkling', 'Sparkling', 'Sparkling', 'Sparkling', 'Sparkling', 'Sparkling', 'Sparkling', 'Sparkling', 'Sparkling', 'Sparkling', 'Sparkling', 'Sparkling', 'Sparkling', 'Sparkling', 'Sparkling', 'Sparkling', 'Sparkling', 'Sparkling', 'Sparkling', 'Sparkling', 'Sparkling', 'Sparkling', 'Sparkling', 'Sparkling', 'Sparkling', 'Sparkling', 'Sparkling', 'Sparkling', 'Sparkling', 'Sparkling', 'Sparkling', 'Sparkling', 'Sparkling', 'Sparkling', 'Sparkling', 'Sparkling', 'Sparkling', 'Sparkling', 'Sparkling', 'Sparkling', 'Sparkling', 'Sparkling', 'Sparkling', 'Sparkling', 'Sparkling', 'Sparkling', 'Sparkling', 'Sparkling', 'Dessert', 'Dessert', 'Dessert', 'Dessert', 'Dessert', 'Dessert', 'Dessert', 'Dessert', 'Dessert', 'Dessert', 'Dessert', 'Dessert', 'Dessert', 'Dessert', 'Dessert', 'Dessert', 'Dessert', 'Dessert', 'Dessert', 'Dessert', 'Dessert', 'Dessert', 'Dessert', 'Dessert', 'Dessert', 'Dessert', 'Dessert', 'Dessert', 'Dessert', 'Dessert', 'Dessert', 'Dessert', 'Dessert', 'Dessert', 'Dessert', 'Dessert', 'Port']\n"
     ]
    }
   ],
   "source": [
    "import csv\n",
    "\n",
    "with open('../G3_PROJECT3/data/filteredWine.csv') as csvfile:\n",
    "    wine = []\n",
    "    readCSV = csv.reader(csvfile, delimiter=',')\n",
    "    for row in readCSV:\n",
    "        if row[2] not in wine:\n",
    "            wine.append(row[4])\n",
    "\n",
    "print((wine))"
   ]
  },
  {
   "cell_type": "code",
   "execution_count": 143,
   "metadata": {},
   "outputs": [
    {
     "name": "stdout",
     "output_type": "stream",
     "text": [
      "wine\n"
     ]
    }
   ],
   "source": [
    "import csv\n",
    "from collections import Counter\n",
    "\n",
    "with open('../G3_PROJECT3/data/filteredWine.csv', 'r') as f:\n",
    "    c = Counter(row[5] for row in csv.reader(f))\n",
    "    print(country)"
   ]
  },
  {
   "cell_type": "code",
   "execution_count": 154,
   "metadata": {},
   "outputs": [
    {
     "ename": "KeyError",
     "evalue": "'Red'",
     "output_type": "error",
     "traceback": [
      "\u001b[0;31m---------------------------------------------------------------------------\u001b[0m",
      "\u001b[0;31mKeyError\u001b[0m                                  Traceback (most recent call last)",
      "\u001b[0;32m~/opt/anaconda3/envs/PythonData/lib/python3.7/site-packages/pandas/core/indexes/base.py\u001b[0m in \u001b[0;36mget_loc\u001b[0;34m(self, key, method, tolerance)\u001b[0m\n\u001b[1;32m   2645\u001b[0m             \u001b[0;32mtry\u001b[0m\u001b[0;34m:\u001b[0m\u001b[0;34m\u001b[0m\u001b[0;34m\u001b[0m\u001b[0m\n\u001b[0;32m-> 2646\u001b[0;31m                 \u001b[0;32mreturn\u001b[0m \u001b[0mself\u001b[0m\u001b[0;34m.\u001b[0m\u001b[0m_engine\u001b[0m\u001b[0;34m.\u001b[0m\u001b[0mget_loc\u001b[0m\u001b[0;34m(\u001b[0m\u001b[0mkey\u001b[0m\u001b[0;34m)\u001b[0m\u001b[0;34m\u001b[0m\u001b[0;34m\u001b[0m\u001b[0m\n\u001b[0m\u001b[1;32m   2647\u001b[0m             \u001b[0;32mexcept\u001b[0m \u001b[0mKeyError\u001b[0m\u001b[0;34m:\u001b[0m\u001b[0;34m\u001b[0m\u001b[0;34m\u001b[0m\u001b[0m\n",
      "\u001b[0;32mpandas/_libs/index.pyx\u001b[0m in \u001b[0;36mpandas._libs.index.IndexEngine.get_loc\u001b[0;34m()\u001b[0m\n",
      "\u001b[0;32mpandas/_libs/index.pyx\u001b[0m in \u001b[0;36mpandas._libs.index.IndexEngine.get_loc\u001b[0;34m()\u001b[0m\n",
      "\u001b[0;32mpandas/_libs/hashtable_class_helper.pxi\u001b[0m in \u001b[0;36mpandas._libs.hashtable.PyObjectHashTable.get_item\u001b[0;34m()\u001b[0m\n",
      "\u001b[0;32mpandas/_libs/hashtable_class_helper.pxi\u001b[0m in \u001b[0;36mpandas._libs.hashtable.PyObjectHashTable.get_item\u001b[0;34m()\u001b[0m\n",
      "\u001b[0;31mKeyError\u001b[0m: 'Red'",
      "\nDuring handling of the above exception, another exception occurred:\n",
      "\u001b[0;31mKeyError\u001b[0m                                  Traceback (most recent call last)",
      "\u001b[0;32m/var/folders/7j/mf_mdj5n1fj8mm3kq4wz62zw0000gn/T/ipykernel_67852/1876414179.py\u001b[0m in \u001b[0;36m<module>\u001b[0;34m\u001b[0m\n\u001b[1;32m      3\u001b[0m \u001b[0mdf\u001b[0m \u001b[0;34m=\u001b[0m \u001b[0mpd\u001b[0m\u001b[0;34m.\u001b[0m\u001b[0mread_csv\u001b[0m\u001b[0;34m(\u001b[0m\u001b[0;34m\"../G3_PROJECT3/data/filteredWine.csv\"\u001b[0m\u001b[0;34m)\u001b[0m\u001b[0;34m\u001b[0m\u001b[0;34m\u001b[0m\u001b[0m\n\u001b[1;32m      4\u001b[0m \u001b[0;34m\u001b[0m\u001b[0m\n\u001b[0;32m----> 5\u001b[0;31m \u001b[0mred\u001b[0m \u001b[0;34m=\u001b[0m \u001b[0mdf\u001b[0m\u001b[0;34m[\u001b[0m\u001b[0;34m\"Red\"\u001b[0m\u001b[0;34m]\u001b[0m\u001b[0;34m.\u001b[0m\u001b[0mvalue_counts\u001b[0m\u001b[0;34m(\u001b[0m\u001b[0;34m)\u001b[0m\u001b[0;34m\u001b[0m\u001b[0;34m\u001b[0m\u001b[0m\n\u001b[0m\u001b[1;32m      6\u001b[0m \u001b[0mwhite\u001b[0m \u001b[0;34m=\u001b[0m \u001b[0mdf\u001b[0m\u001b[0;34m[\u001b[0m\u001b[0;34m\"white\"\u001b[0m\u001b[0;34m]\u001b[0m\u001b[0;34m.\u001b[0m\u001b[0mvalue_counts\u001b[0m\u001b[0;34m(\u001b[0m\u001b[0;34m)\u001b[0m\u001b[0;34m\u001b[0m\u001b[0;34m\u001b[0m\u001b[0m\n\u001b[1;32m      7\u001b[0m \u001b[0msparkling\u001b[0m \u001b[0;34m=\u001b[0m \u001b[0mdf\u001b[0m\u001b[0;34m[\u001b[0m\u001b[0;34m\"Sparkling\"\u001b[0m\u001b[0;34m]\u001b[0m\u001b[0;34m.\u001b[0m\u001b[0mvalue_counts\u001b[0m\u001b[0;34m(\u001b[0m\u001b[0;34m)\u001b[0m\u001b[0;34m\u001b[0m\u001b[0;34m\u001b[0m\u001b[0m\n",
      "\u001b[0;32m~/opt/anaconda3/envs/PythonData/lib/python3.7/site-packages/pandas/core/frame.py\u001b[0m in \u001b[0;36m__getitem__\u001b[0;34m(self, key)\u001b[0m\n\u001b[1;32m   2798\u001b[0m             \u001b[0;32mif\u001b[0m \u001b[0mself\u001b[0m\u001b[0;34m.\u001b[0m\u001b[0mcolumns\u001b[0m\u001b[0;34m.\u001b[0m\u001b[0mnlevels\u001b[0m \u001b[0;34m>\u001b[0m \u001b[0;36m1\u001b[0m\u001b[0;34m:\u001b[0m\u001b[0;34m\u001b[0m\u001b[0;34m\u001b[0m\u001b[0m\n\u001b[1;32m   2799\u001b[0m                 \u001b[0;32mreturn\u001b[0m \u001b[0mself\u001b[0m\u001b[0;34m.\u001b[0m\u001b[0m_getitem_multilevel\u001b[0m\u001b[0;34m(\u001b[0m\u001b[0mkey\u001b[0m\u001b[0;34m)\u001b[0m\u001b[0;34m\u001b[0m\u001b[0;34m\u001b[0m\u001b[0m\n\u001b[0;32m-> 2800\u001b[0;31m             \u001b[0mindexer\u001b[0m \u001b[0;34m=\u001b[0m \u001b[0mself\u001b[0m\u001b[0;34m.\u001b[0m\u001b[0mcolumns\u001b[0m\u001b[0;34m.\u001b[0m\u001b[0mget_loc\u001b[0m\u001b[0;34m(\u001b[0m\u001b[0mkey\u001b[0m\u001b[0;34m)\u001b[0m\u001b[0;34m\u001b[0m\u001b[0;34m\u001b[0m\u001b[0m\n\u001b[0m\u001b[1;32m   2801\u001b[0m             \u001b[0;32mif\u001b[0m \u001b[0mis_integer\u001b[0m\u001b[0;34m(\u001b[0m\u001b[0mindexer\u001b[0m\u001b[0;34m)\u001b[0m\u001b[0;34m:\u001b[0m\u001b[0;34m\u001b[0m\u001b[0;34m\u001b[0m\u001b[0m\n\u001b[1;32m   2802\u001b[0m                 \u001b[0mindexer\u001b[0m \u001b[0;34m=\u001b[0m \u001b[0;34m[\u001b[0m\u001b[0mindexer\u001b[0m\u001b[0;34m]\u001b[0m\u001b[0;34m\u001b[0m\u001b[0;34m\u001b[0m\u001b[0m\n",
      "\u001b[0;32m~/opt/anaconda3/envs/PythonData/lib/python3.7/site-packages/pandas/core/indexes/base.py\u001b[0m in \u001b[0;36mget_loc\u001b[0;34m(self, key, method, tolerance)\u001b[0m\n\u001b[1;32m   2646\u001b[0m                 \u001b[0;32mreturn\u001b[0m \u001b[0mself\u001b[0m\u001b[0;34m.\u001b[0m\u001b[0m_engine\u001b[0m\u001b[0;34m.\u001b[0m\u001b[0mget_loc\u001b[0m\u001b[0;34m(\u001b[0m\u001b[0mkey\u001b[0m\u001b[0;34m)\u001b[0m\u001b[0;34m\u001b[0m\u001b[0;34m\u001b[0m\u001b[0m\n\u001b[1;32m   2647\u001b[0m             \u001b[0;32mexcept\u001b[0m \u001b[0mKeyError\u001b[0m\u001b[0;34m:\u001b[0m\u001b[0;34m\u001b[0m\u001b[0;34m\u001b[0m\u001b[0m\n\u001b[0;32m-> 2648\u001b[0;31m                 \u001b[0;32mreturn\u001b[0m \u001b[0mself\u001b[0m\u001b[0;34m.\u001b[0m\u001b[0m_engine\u001b[0m\u001b[0;34m.\u001b[0m\u001b[0mget_loc\u001b[0m\u001b[0;34m(\u001b[0m\u001b[0mself\u001b[0m\u001b[0;34m.\u001b[0m\u001b[0m_maybe_cast_indexer\u001b[0m\u001b[0;34m(\u001b[0m\u001b[0mkey\u001b[0m\u001b[0;34m)\u001b[0m\u001b[0;34m)\u001b[0m\u001b[0;34m\u001b[0m\u001b[0;34m\u001b[0m\u001b[0m\n\u001b[0m\u001b[1;32m   2649\u001b[0m         \u001b[0mindexer\u001b[0m \u001b[0;34m=\u001b[0m \u001b[0mself\u001b[0m\u001b[0;34m.\u001b[0m\u001b[0mget_indexer\u001b[0m\u001b[0;34m(\u001b[0m\u001b[0;34m[\u001b[0m\u001b[0mkey\u001b[0m\u001b[0;34m]\u001b[0m\u001b[0;34m,\u001b[0m \u001b[0mmethod\u001b[0m\u001b[0;34m=\u001b[0m\u001b[0mmethod\u001b[0m\u001b[0;34m,\u001b[0m \u001b[0mtolerance\u001b[0m\u001b[0;34m=\u001b[0m\u001b[0mtolerance\u001b[0m\u001b[0;34m)\u001b[0m\u001b[0;34m\u001b[0m\u001b[0;34m\u001b[0m\u001b[0m\n\u001b[1;32m   2650\u001b[0m         \u001b[0;32mif\u001b[0m \u001b[0mindexer\u001b[0m\u001b[0;34m.\u001b[0m\u001b[0mndim\u001b[0m \u001b[0;34m>\u001b[0m \u001b[0;36m1\u001b[0m \u001b[0;32mor\u001b[0m \u001b[0mindexer\u001b[0m\u001b[0;34m.\u001b[0m\u001b[0msize\u001b[0m \u001b[0;34m>\u001b[0m \u001b[0;36m1\u001b[0m\u001b[0;34m:\u001b[0m\u001b[0;34m\u001b[0m\u001b[0;34m\u001b[0m\u001b[0m\n",
      "\u001b[0;32mpandas/_libs/index.pyx\u001b[0m in \u001b[0;36mpandas._libs.index.IndexEngine.get_loc\u001b[0;34m()\u001b[0m\n",
      "\u001b[0;32mpandas/_libs/index.pyx\u001b[0m in \u001b[0;36mpandas._libs.index.IndexEngine.get_loc\u001b[0;34m()\u001b[0m\n",
      "\u001b[0;32mpandas/_libs/hashtable_class_helper.pxi\u001b[0m in \u001b[0;36mpandas._libs.hashtable.PyObjectHashTable.get_item\u001b[0;34m()\u001b[0m\n",
      "\u001b[0;32mpandas/_libs/hashtable_class_helper.pxi\u001b[0m in \u001b[0;36mpandas._libs.hashtable.PyObjectHashTable.get_item\u001b[0;34m()\u001b[0m\n",
      "\u001b[0;31mKeyError\u001b[0m: 'Red'"
     ]
    }
   ],
   "source": [
    "import pandas as pd\n",
    "\n",
    "df = pd.read_csv(\"../G3_PROJECT3/data/filteredWine.csv\")\n",
    "\n",
    "red = df[\"Red\"].value_counts()\n",
    "white = df[\"white\"].value_counts()\n",
    "sparkling = df[\"Sparkling\"].value_counts()\n",
    "\n",
    "\n",
    "\n",
    "red.to_csv('red.csv')\n"
   ]
  },
  {
   "cell_type": "code",
   "execution_count": 124,
   "metadata": {},
   "outputs": [],
   "source": [
    "\n",
    "chart_df = (\"../G3_PROJECT3/starterCode.ipynb\")"
   ]
  },
  {
   "cell_type": "code",
   "execution_count": 133,
   "metadata": {},
   "outputs": [
    {
     "ename": "ValueError",
     "evalue": "could not convert string to float: 'Oakville'",
     "output_type": "error",
     "traceback": [
      "\u001b[0;31m---------------------------------------------------------------------------\u001b[0m",
      "\u001b[0;31mValueError\u001b[0m                                Traceback (most recent call last)",
      "\u001b[0;32m/var/folders/7j/mf_mdj5n1fj8mm3kq4wz62zw0000gn/T/ipykernel_67852/763401772.py\u001b[0m in \u001b[0;36m<module>\u001b[0;34m\u001b[0m\n\u001b[1;32m      1\u001b[0m \u001b[0mcolors\u001b[0m \u001b[0;34m=\u001b[0m \u001b[0;34m[\u001b[0m\u001b[0;34m\"#1f77b4\"\u001b[0m\u001b[0;34m,\u001b[0m \u001b[0;34m\"#ff7f0e\"\u001b[0m\u001b[0;34m,\u001b[0m \u001b[0;34m\"#2ca02c\"\u001b[0m\u001b[0;34m,\u001b[0m \u001b[0;34m\"#d62728\"\u001b[0m\u001b[0;34m,\u001b[0m \u001b[0;34m\"#8c564b\"\u001b[0m\u001b[0;34m,\u001b[0m \u001b[0;34m\"#DFFF00\"\u001b[0m\u001b[0;34m,\u001b[0m \u001b[0;34m\"#FFBF00\"\u001b[0m\u001b[0;34m,\u001b[0m \u001b[0;34m\"#FF7F50\"\u001b[0m\u001b[0;34m,\u001b[0m \u001b[0;34m\"#DE3163\"\u001b[0m\u001b[0;34m,\u001b[0m \u001b[0;34m\"#9FE2BF\"\u001b[0m\u001b[0;34m,\u001b[0m \u001b[0;34m\"#40E0D0\"\u001b[0m\u001b[0;34m,\u001b[0m \u001b[0;34m\"#6495ED\"\u001b[0m\u001b[0;34m,\u001b[0m \u001b[0;34m\"#CCCCFF\"\u001b[0m\u001b[0;34m,\u001b[0m \u001b[0;34m\"#17202A\"\u001b[0m\u001b[0;34m,\u001b[0m \u001b[0;34m\"#FDFEFE\"\u001b[0m\u001b[0;34m,\u001b[0m \u001b[0;34m\"#D35400\"\u001b[0m\u001b[0;34m,\u001b[0m \u001b[0;34m\"#58D68D\"\u001b[0m\u001b[0;34m,\u001b[0m \u001b[0;34m\"#154360\"\u001b[0m\u001b[0;34m,\u001b[0m \u001b[0;34m\"#95A5A6\"\u001b[0m\u001b[0;34m,\u001b[0m \u001b[0;34m\"#EC7063\"\u001b[0m\u001b[0;34m,\u001b[0m \u001b[0;34m\"#8E44AD\"\u001b[0m \u001b[0;34m]\u001b[0m\u001b[0;34m\u001b[0m\u001b[0;34m\u001b[0m\u001b[0m\n\u001b[1;32m      2\u001b[0m \u001b[0mexplode\u001b[0m \u001b[0;34m=\u001b[0m \u001b[0;34m(\u001b[0m\u001b[0;36m0\u001b[0m\u001b[0;34m,\u001b[0m \u001b[0;36m0\u001b[0m\u001b[0;34m,\u001b[0m \u001b[0;36m0\u001b[0m\u001b[0;34m,\u001b[0m \u001b[0;36m0\u001b[0m\u001b[0;34m,\u001b[0m \u001b[0;36m0\u001b[0m\u001b[0;34m,\u001b[0m \u001b[0;36m0\u001b[0m\u001b[0;34m,\u001b[0m \u001b[0;36m0\u001b[0m\u001b[0;34m,\u001b[0m \u001b[0;36m0\u001b[0m\u001b[0;34m,\u001b[0m \u001b[0;36m0\u001b[0m\u001b[0;34m,\u001b[0m \u001b[0;36m0\u001b[0m\u001b[0;34m,\u001b[0m \u001b[0;36m0\u001b[0m\u001b[0;34m,\u001b[0m \u001b[0;36m0\u001b[0m\u001b[0;34m,\u001b[0m \u001b[0;36m0\u001b[0m\u001b[0;34m,\u001b[0m \u001b[0;36m0\u001b[0m\u001b[0;34m,\u001b[0m \u001b[0;36m0\u001b[0m\u001b[0;34m,\u001b[0m \u001b[0;36m0\u001b[0m\u001b[0;34m,\u001b[0m \u001b[0;36m0\u001b[0m\u001b[0;34m,\u001b[0m \u001b[0;36m0\u001b[0m\u001b[0;34m,\u001b[0m \u001b[0;36m0\u001b[0m\u001b[0;34m,\u001b[0m \u001b[0;36m0\u001b[0m\u001b[0;34m)\u001b[0m\u001b[0;34m\u001b[0m\u001b[0;34m\u001b[0m\u001b[0m\n\u001b[0;32m----> 3\u001b[0;31m \u001b[0mplt\u001b[0m\u001b[0;34m.\u001b[0m\u001b[0mpie\u001b[0m\u001b[0;34m(\u001b[0m\u001b[0mwine_data\u001b[0m\u001b[0;34m,\u001b[0m \u001b[0mlabels\u001b[0m\u001b[0;34m=\u001b[0m\u001b[0mcountry_data\u001b[0m\u001b[0;34m,\u001b[0m \u001b[0mexplode\u001b[0m\u001b[0;34m=\u001b[0m\u001b[0mexplode\u001b[0m\u001b[0;34m,\u001b[0m \u001b[0mcolors\u001b[0m\u001b[0;34m=\u001b[0m\u001b[0mcolors\u001b[0m\u001b[0;34m)\u001b[0m\u001b[0;34m\u001b[0m\u001b[0;34m\u001b[0m\u001b[0m\n\u001b[0m\u001b[1;32m      4\u001b[0m \u001b[0mplt\u001b[0m\u001b[0;34m.\u001b[0m\u001b[0mtitle\u001b[0m\u001b[0;34m(\u001b[0m\u001b[0;34m\"Country\"\u001b[0m\u001b[0;34m)\u001b[0m\u001b[0;34m\u001b[0m\u001b[0;34m\u001b[0m\u001b[0m\n\u001b[1;32m      5\u001b[0m \u001b[0mplt\u001b[0m\u001b[0;34m.\u001b[0m\u001b[0mshow\u001b[0m\u001b[0;34m(\u001b[0m\u001b[0;34m)\u001b[0m\u001b[0;34m\u001b[0m\u001b[0;34m\u001b[0m\u001b[0m\n",
      "\u001b[0;32m~/opt/anaconda3/envs/PythonData/lib/python3.7/site-packages/matplotlib/pyplot.py\u001b[0m in \u001b[0;36mpie\u001b[0;34m(x, explode, labels, colors, autopct, pctdistance, shadow, labeldistance, startangle, radius, counterclock, wedgeprops, textprops, center, frame, rotatelabels, data)\u001b[0m\n\u001b[1;32m   2786\u001b[0m         \u001b[0mwedgeprops\u001b[0m\u001b[0;34m=\u001b[0m\u001b[0mwedgeprops\u001b[0m\u001b[0;34m,\u001b[0m \u001b[0mtextprops\u001b[0m\u001b[0;34m=\u001b[0m\u001b[0mtextprops\u001b[0m\u001b[0;34m,\u001b[0m \u001b[0mcenter\u001b[0m\u001b[0;34m=\u001b[0m\u001b[0mcenter\u001b[0m\u001b[0;34m,\u001b[0m\u001b[0;34m\u001b[0m\u001b[0;34m\u001b[0m\u001b[0m\n\u001b[1;32m   2787\u001b[0m         frame=frame, rotatelabels=rotatelabels, **({\"data\": data} if\n\u001b[0;32m-> 2788\u001b[0;31m         data is not None else {}))\n\u001b[0m\u001b[1;32m   2789\u001b[0m \u001b[0;34m\u001b[0m\u001b[0m\n\u001b[1;32m   2790\u001b[0m \u001b[0;34m\u001b[0m\u001b[0m\n",
      "\u001b[0;32m~/opt/anaconda3/envs/PythonData/lib/python3.7/site-packages/matplotlib/__init__.py\u001b[0m in \u001b[0;36minner\u001b[0;34m(ax, data, *args, **kwargs)\u001b[0m\n\u001b[1;32m   1597\u001b[0m     \u001b[0;32mdef\u001b[0m \u001b[0minner\u001b[0m\u001b[0;34m(\u001b[0m\u001b[0max\u001b[0m\u001b[0;34m,\u001b[0m \u001b[0;34m*\u001b[0m\u001b[0margs\u001b[0m\u001b[0;34m,\u001b[0m \u001b[0mdata\u001b[0m\u001b[0;34m=\u001b[0m\u001b[0;32mNone\u001b[0m\u001b[0;34m,\u001b[0m \u001b[0;34m**\u001b[0m\u001b[0mkwargs\u001b[0m\u001b[0;34m)\u001b[0m\u001b[0;34m:\u001b[0m\u001b[0;34m\u001b[0m\u001b[0;34m\u001b[0m\u001b[0m\n\u001b[1;32m   1598\u001b[0m         \u001b[0;32mif\u001b[0m \u001b[0mdata\u001b[0m \u001b[0;32mis\u001b[0m \u001b[0;32mNone\u001b[0m\u001b[0;34m:\u001b[0m\u001b[0;34m\u001b[0m\u001b[0;34m\u001b[0m\u001b[0m\n\u001b[0;32m-> 1599\u001b[0;31m             \u001b[0;32mreturn\u001b[0m \u001b[0mfunc\u001b[0m\u001b[0;34m(\u001b[0m\u001b[0max\u001b[0m\u001b[0;34m,\u001b[0m \u001b[0;34m*\u001b[0m\u001b[0mmap\u001b[0m\u001b[0;34m(\u001b[0m\u001b[0msanitize_sequence\u001b[0m\u001b[0;34m,\u001b[0m \u001b[0margs\u001b[0m\u001b[0;34m)\u001b[0m\u001b[0;34m,\u001b[0m \u001b[0;34m**\u001b[0m\u001b[0mkwargs\u001b[0m\u001b[0;34m)\u001b[0m\u001b[0;34m\u001b[0m\u001b[0;34m\u001b[0m\u001b[0m\n\u001b[0m\u001b[1;32m   1600\u001b[0m \u001b[0;34m\u001b[0m\u001b[0m\n\u001b[1;32m   1601\u001b[0m         \u001b[0mbound\u001b[0m \u001b[0;34m=\u001b[0m \u001b[0mnew_sig\u001b[0m\u001b[0;34m.\u001b[0m\u001b[0mbind\u001b[0m\u001b[0;34m(\u001b[0m\u001b[0max\u001b[0m\u001b[0;34m,\u001b[0m \u001b[0;34m*\u001b[0m\u001b[0margs\u001b[0m\u001b[0;34m,\u001b[0m \u001b[0;34m**\u001b[0m\u001b[0mkwargs\u001b[0m\u001b[0;34m)\u001b[0m\u001b[0;34m\u001b[0m\u001b[0;34m\u001b[0m\u001b[0m\n",
      "\u001b[0;32m~/opt/anaconda3/envs/PythonData/lib/python3.7/site-packages/matplotlib/axes/_axes.py\u001b[0m in \u001b[0;36mpie\u001b[0;34m(self, x, explode, labels, colors, autopct, pctdistance, shadow, labeldistance, startangle, radius, counterclock, wedgeprops, textprops, center, frame, rotatelabels)\u001b[0m\n\u001b[1;32m   2963\u001b[0m         \u001b[0;31m# The use of float32 is \"historical\", but can't be changed without\u001b[0m\u001b[0;34m\u001b[0m\u001b[0;34m\u001b[0m\u001b[0;34m\u001b[0m\u001b[0m\n\u001b[1;32m   2964\u001b[0m         \u001b[0;31m# regenerating the test baselines.\u001b[0m\u001b[0;34m\u001b[0m\u001b[0;34m\u001b[0m\u001b[0;34m\u001b[0m\u001b[0m\n\u001b[0;32m-> 2965\u001b[0;31m         \u001b[0mx\u001b[0m \u001b[0;34m=\u001b[0m \u001b[0mnp\u001b[0m\u001b[0;34m.\u001b[0m\u001b[0masarray\u001b[0m\u001b[0;34m(\u001b[0m\u001b[0mx\u001b[0m\u001b[0;34m,\u001b[0m \u001b[0mnp\u001b[0m\u001b[0;34m.\u001b[0m\u001b[0mfloat32\u001b[0m\u001b[0;34m)\u001b[0m\u001b[0;34m\u001b[0m\u001b[0;34m\u001b[0m\u001b[0m\n\u001b[0m\u001b[1;32m   2966\u001b[0m         \u001b[0;32mif\u001b[0m \u001b[0mx\u001b[0m\u001b[0;34m.\u001b[0m\u001b[0mndim\u001b[0m \u001b[0;34m!=\u001b[0m \u001b[0;36m1\u001b[0m \u001b[0;32mand\u001b[0m \u001b[0mx\u001b[0m\u001b[0;34m.\u001b[0m\u001b[0msqueeze\u001b[0m\u001b[0;34m(\u001b[0m\u001b[0;34m)\u001b[0m\u001b[0;34m.\u001b[0m\u001b[0mndim\u001b[0m \u001b[0;34m<=\u001b[0m \u001b[0;36m1\u001b[0m\u001b[0;34m:\u001b[0m\u001b[0;34m\u001b[0m\u001b[0;34m\u001b[0m\u001b[0m\n\u001b[1;32m   2967\u001b[0m             cbook.warn_deprecated(\n",
      "\u001b[0;32m~/opt/anaconda3/envs/PythonData/lib/python3.7/site-packages/numpy/core/_asarray.py\u001b[0m in \u001b[0;36masarray\u001b[0;34m(a, dtype, order)\u001b[0m\n\u001b[1;32m     83\u001b[0m \u001b[0;34m\u001b[0m\u001b[0m\n\u001b[1;32m     84\u001b[0m     \"\"\"\n\u001b[0;32m---> 85\u001b[0;31m     \u001b[0;32mreturn\u001b[0m \u001b[0marray\u001b[0m\u001b[0;34m(\u001b[0m\u001b[0ma\u001b[0m\u001b[0;34m,\u001b[0m \u001b[0mdtype\u001b[0m\u001b[0;34m,\u001b[0m \u001b[0mcopy\u001b[0m\u001b[0;34m=\u001b[0m\u001b[0;32mFalse\u001b[0m\u001b[0;34m,\u001b[0m \u001b[0morder\u001b[0m\u001b[0;34m=\u001b[0m\u001b[0morder\u001b[0m\u001b[0;34m)\u001b[0m\u001b[0;34m\u001b[0m\u001b[0;34m\u001b[0m\u001b[0m\n\u001b[0m\u001b[1;32m     86\u001b[0m \u001b[0;34m\u001b[0m\u001b[0m\n\u001b[1;32m     87\u001b[0m \u001b[0;34m\u001b[0m\u001b[0m\n",
      "\u001b[0;32m~/opt/anaconda3/envs/PythonData/lib/python3.7/site-packages/pandas/core/series.py\u001b[0m in \u001b[0;36m__array__\u001b[0;34m(self, dtype)\u001b[0m\n\u001b[1;32m    752\u001b[0m               dtype='datetime64[ns]')\n\u001b[1;32m    753\u001b[0m         \"\"\"\n\u001b[0;32m--> 754\u001b[0;31m         \u001b[0;32mreturn\u001b[0m \u001b[0mnp\u001b[0m\u001b[0;34m.\u001b[0m\u001b[0masarray\u001b[0m\u001b[0;34m(\u001b[0m\u001b[0mself\u001b[0m\u001b[0;34m.\u001b[0m\u001b[0marray\u001b[0m\u001b[0;34m,\u001b[0m \u001b[0mdtype\u001b[0m\u001b[0;34m)\u001b[0m\u001b[0;34m\u001b[0m\u001b[0;34m\u001b[0m\u001b[0m\n\u001b[0m\u001b[1;32m    755\u001b[0m \u001b[0;34m\u001b[0m\u001b[0m\n\u001b[1;32m    756\u001b[0m     \u001b[0;31m# ----------------------------------------------------------------------\u001b[0m\u001b[0;34m\u001b[0m\u001b[0;34m\u001b[0m\u001b[0;34m\u001b[0m\u001b[0m\n",
      "\u001b[0;32m~/opt/anaconda3/envs/PythonData/lib/python3.7/site-packages/numpy/core/_asarray.py\u001b[0m in \u001b[0;36masarray\u001b[0;34m(a, dtype, order)\u001b[0m\n\u001b[1;32m     83\u001b[0m \u001b[0;34m\u001b[0m\u001b[0m\n\u001b[1;32m     84\u001b[0m     \"\"\"\n\u001b[0;32m---> 85\u001b[0;31m     \u001b[0;32mreturn\u001b[0m \u001b[0marray\u001b[0m\u001b[0;34m(\u001b[0m\u001b[0ma\u001b[0m\u001b[0;34m,\u001b[0m \u001b[0mdtype\u001b[0m\u001b[0;34m,\u001b[0m \u001b[0mcopy\u001b[0m\u001b[0;34m=\u001b[0m\u001b[0;32mFalse\u001b[0m\u001b[0;34m,\u001b[0m \u001b[0morder\u001b[0m\u001b[0;34m=\u001b[0m\u001b[0morder\u001b[0m\u001b[0;34m)\u001b[0m\u001b[0;34m\u001b[0m\u001b[0;34m\u001b[0m\u001b[0m\n\u001b[0m\u001b[1;32m     86\u001b[0m \u001b[0;34m\u001b[0m\u001b[0m\n\u001b[1;32m     87\u001b[0m \u001b[0;34m\u001b[0m\u001b[0m\n",
      "\u001b[0;32m~/opt/anaconda3/envs/PythonData/lib/python3.7/site-packages/pandas/core/arrays/numpy_.py\u001b[0m in \u001b[0;36m__array__\u001b[0;34m(self, dtype)\u001b[0m\n\u001b[1;32m    182\u001b[0m \u001b[0;34m\u001b[0m\u001b[0m\n\u001b[1;32m    183\u001b[0m     \u001b[0;32mdef\u001b[0m \u001b[0m__array__\u001b[0m\u001b[0;34m(\u001b[0m\u001b[0mself\u001b[0m\u001b[0;34m,\u001b[0m \u001b[0mdtype\u001b[0m\u001b[0;34m=\u001b[0m\u001b[0;32mNone\u001b[0m\u001b[0;34m)\u001b[0m \u001b[0;34m->\u001b[0m \u001b[0mnp\u001b[0m\u001b[0;34m.\u001b[0m\u001b[0mndarray\u001b[0m\u001b[0;34m:\u001b[0m\u001b[0;34m\u001b[0m\u001b[0;34m\u001b[0m\u001b[0m\n\u001b[0;32m--> 184\u001b[0;31m         \u001b[0;32mreturn\u001b[0m \u001b[0mnp\u001b[0m\u001b[0;34m.\u001b[0m\u001b[0masarray\u001b[0m\u001b[0;34m(\u001b[0m\u001b[0mself\u001b[0m\u001b[0;34m.\u001b[0m\u001b[0m_ndarray\u001b[0m\u001b[0;34m,\u001b[0m \u001b[0mdtype\u001b[0m\u001b[0;34m=\u001b[0m\u001b[0mdtype\u001b[0m\u001b[0;34m)\u001b[0m\u001b[0;34m\u001b[0m\u001b[0;34m\u001b[0m\u001b[0m\n\u001b[0m\u001b[1;32m    185\u001b[0m \u001b[0;34m\u001b[0m\u001b[0m\n\u001b[1;32m    186\u001b[0m     \u001b[0m_HANDLED_TYPES\u001b[0m \u001b[0;34m=\u001b[0m \u001b[0;34m(\u001b[0m\u001b[0mnp\u001b[0m\u001b[0;34m.\u001b[0m\u001b[0mndarray\u001b[0m\u001b[0;34m,\u001b[0m \u001b[0mnumbers\u001b[0m\u001b[0;34m.\u001b[0m\u001b[0mNumber\u001b[0m\u001b[0;34m)\u001b[0m\u001b[0;34m\u001b[0m\u001b[0;34m\u001b[0m\u001b[0m\n",
      "\u001b[0;32m~/opt/anaconda3/envs/PythonData/lib/python3.7/site-packages/numpy/core/_asarray.py\u001b[0m in \u001b[0;36masarray\u001b[0;34m(a, dtype, order)\u001b[0m\n\u001b[1;32m     83\u001b[0m \u001b[0;34m\u001b[0m\u001b[0m\n\u001b[1;32m     84\u001b[0m     \"\"\"\n\u001b[0;32m---> 85\u001b[0;31m     \u001b[0;32mreturn\u001b[0m \u001b[0marray\u001b[0m\u001b[0;34m(\u001b[0m\u001b[0ma\u001b[0m\u001b[0;34m,\u001b[0m \u001b[0mdtype\u001b[0m\u001b[0;34m,\u001b[0m \u001b[0mcopy\u001b[0m\u001b[0;34m=\u001b[0m\u001b[0;32mFalse\u001b[0m\u001b[0;34m,\u001b[0m \u001b[0morder\u001b[0m\u001b[0;34m=\u001b[0m\u001b[0morder\u001b[0m\u001b[0;34m)\u001b[0m\u001b[0;34m\u001b[0m\u001b[0;34m\u001b[0m\u001b[0m\n\u001b[0m\u001b[1;32m     86\u001b[0m \u001b[0;34m\u001b[0m\u001b[0m\n\u001b[1;32m     87\u001b[0m \u001b[0;34m\u001b[0m\u001b[0m\n",
      "\u001b[0;31mValueError\u001b[0m: could not convert string to float: 'Oakville'"
     ]
    },
    {
     "data": {
      "image/png": "[encoded data removed]",
      "text/plain": [
       "<Figure size 432x288 with 1 Axes>"
      ]
     },
     "metadata": {
      "needs_background": "light"
     },
     "output_type": "display_data"
    }
   ],
   "source": [
    "colors = [\"#1f77b4\", \"#ff7f0e\", \"#2ca02c\", \"#d62728\", \"#8c564b\", \"#DFFF00\", \"#FFBF00\", \"#FF7F50\", \"#DE3163\", \"#9FE2BF\", \"#40E0D0\", \"#6495ED\", \"#CCCCFF\", \"#17202A\", \"#FDFEFE\", \"#D35400\", \"#58D68D\", \"#154360\", \"#95A5A6\", \"#EC7063\", \"#8E44AD\" ]\n",
    "explode = (0, 0, 0, 0, 0, 0, 0, 0, 0, 0, 0, 0, 0, 0, 0, 0, 0, 0, 0, 0)  \n",
    "plt.pie(wine_data, labels=country_data, explode=explode, colors=colors)\n",
    "plt.title(\"Country\")\n",
    "plt.show()"
   ]
  }
 ],
 "metadata": {
  "kernelspec": {
   "display_name": "PythonData",
   "language": "python",
   "name": "python3"
  },
  "language_info": {
   "codemirror_mode": {
    "name": "ipython",
    "version": 3
   },
   "file_extension": ".py",
   "mimetype": "text/x-python",
   "name": "python",
   "nbconvert_exporter": "python",
   "pygments_lexer": "ipython3",
   "version": "3.7.7"
  },
  "orig_nbformat": 4,
  "vscode": {
   "interpreter": {
    "hash": "19a5faa92dfc51dfe8002de98286df4b8c95ece8c1689671672dcaf94f420283"
   }
  }
 },
 "nbformat": 4,
 "nbformat_minor": 2
}
