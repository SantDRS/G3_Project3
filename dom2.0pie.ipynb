{
 "cells": [
  {
   "cell_type": "code",
   "execution_count": 18,
   "metadata": {},
   "outputs": [],
   "source": [
    "import matplotlib.pyplot as plt\n",
    "import pandas as pd\n"
   ]
  },
  {
   "cell_type": "code",
   "execution_count": 170,
   "metadata": {},
   "outputs": [],
   "source": [
    "df =  pd.read_csv(\"../G3_PROJECT3/data/filteredWine.csv\")\n",
    "\n"
   ]
  },
  {
   "cell_type": "code",
   "execution_count": 171,
   "metadata": {},
   "outputs": [
    {
     "data": {
      "text/plain": [
       "0       United States\n",
       "1       United States\n",
       "2       United States\n",
       "3       United States\n",
       "4       United States\n",
       "            ...      \n",
       "1084           France\n",
       "1085           France\n",
       "1086            Italy\n",
       "1087          Germany\n",
       "1088         Portugal\n",
       "Name: country, Length: 1089, dtype: object"
      ]
     },
     "execution_count": 171,
     "metadata": {},
     "output_type": "execute_result"
    }
   ],
   "source": [
    "country_data = df[\"country\"]\n",
    "country_data.head(10000)\n"
   ]
  },
  {
   "cell_type": "code",
   "execution_count": 190,
   "metadata": {},
   "outputs": [],
   "source": [
    "import csv\n",
    "\n",
    "with open('../G3_PROJECT3/data/filteredWine.csv') as csvfile:\n",
    "    wine = []\n",
    "    readCSV = csv.reader(csvfile, delimiter=',')\n",
    "    for row in readCSV:\n",
    "        if row[2] not in wine:\n",
    "            wine.append(row[4])\n",
    "\n",
    "#print((wine))"
   ]
  },
  {
   "cell_type": "code",
   "execution_count": 143,
   "metadata": {},
   "outputs": [
    {
     "name": "stdout",
     "output_type": "stream",
     "text": [
      "wine\n"
     ]
    }
   ],
   "source": [
    "import csv\n",
    "from collections import Counter\n",
    "\n",
    "with open('../G3_PROJECT3/data/filteredWine.csv', 'r') as f:\n",
    "    c = Counter(row[5] for row in csv.reader(f))\n",
    "    print(country)"
   ]
  },
  {
   "cell_type": "code",
   "execution_count": 164,
   "metadata": {},
   "outputs": [
    {
     "name": "stdout",
     "output_type": "stream",
     "text": [
      "210 150 625 36 1 67\n"
     ]
    }
   ],
   "source": [
    "import pandas as pd\n",
    "\n",
    "df = pd.read_csv(\"../G3_PROJECT3/data/filteredWine.csv\")\n",
    "\n",
    "red = wine.count(\"Red\")\n",
    "white = wine.count(\"White\")\n",
    "sparkling = wine.count(\"Sparkling\")\n",
    "Dessert = wine.count(\"Dessert\")\n",
    "Port = wine.count(\"Port\")\n",
    "Rose = wine.count(\"Rose\")\n",
    "\n",
    "print(red, white, sparkling, Dessert, Port, Rose)"
   ]
  },
  {
   "cell_type": "code",
   "execution_count": 169,
   "metadata": {},
   "outputs": [
    {
     "data": {
      "image/png": "[encoded data removed]",
      "text/plain": [
       "<Figure size 432x288 with 1 Axes>"
      ]
     },
     "metadata": {
      "needs_background": "light"
     },
     "output_type": "display_data"
    }
   ],
   "source": [
    "df = pd.DataFrame({'Wine Type':['red', 'white', 'sparkling', \"Dessert\", \"Port\", 'Rose'], 'val':[210, 150, 625, 36, 1,67]})\n",
    ">>> ax = df.plot.bar(x='Wine Type', y='val', rot=0)"
   ]
  },
  {
   "cell_type": "code",
   "execution_count": 176,
   "metadata": {},
   "outputs": [
    {
     "name": "stdout",
     "output_type": "stream",
     "text": [
      "321 31 10 3 8 7 627 42 16 9 7 1 4 1\n"
     ]
    }
   ],
   "source": [
    "import pandas as pd\n",
    "\n",
    "df = pd.read_csv(\"../G3_PROJECT3/data/filteredWine.csv\")\n",
    "\n",
    "United_States = country.count(\"United States\")\n",
    "Italy = country.count(\"Italy\")\n",
    "Argentina = country.count(\"Argentina\")\n",
    "Chile = country.count(\"Chile\")\n",
    "Australia = country.count(\"Australia\")\n",
    "Canada = country.count(\"Canada\")\n",
    "France = country.count(\"France\")\n",
    "Germany = country.count(\"Germany\")\n",
    "Austria = country.count(\"Austria\")\n",
    "Spain = country.count(\"Spain\")\n",
    "South_Africa = country.count(\"South Africa\")\n",
    "Switzerland = country.count(\"Switzerland\")\n",
    "New_Zealand = country.count(\"New Zealand\")\n",
    "Portugal = country.count(\"Portugal\")\n",
    "\n",
    "\n",
    "print(United_States, Italy, Argentina, Chile, Australia, Canada, France, Germany, Austria, Spain, South_Africa, Switzerland, New_Zealand, Portugal)"
   ]
  }
 ],
 "metadata": {
  "kernelspec": {
   "display_name": "PythonData",
   "language": "python",
   "name": "python3"
  },
  "language_info": {
   "codemirror_mode": {
    "name": "ipython",
    "version": 3
   },
   "file_extension": ".py",
   "mimetype": "text/x-python",
   "name": "python",
   "nbconvert_exporter": "python",
   "pygments_lexer": "ipython3",
   "version": "3.7.7"
  },
  "orig_nbformat": 4,
  "vscode": {
   "interpreter": {
    "hash": "19a5faa92dfc51dfe8002de98286df4b8c95ece8c1689671672dcaf94f420283"
   }
  }
 },
 "nbformat": 4,
 "nbformat_minor": 2
}
