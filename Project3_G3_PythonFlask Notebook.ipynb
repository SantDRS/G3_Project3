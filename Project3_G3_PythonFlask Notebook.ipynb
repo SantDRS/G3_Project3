{
 "cells": [
  {
   "cell_type": "markdown",
   "id": "11610894",
   "metadata": {},
   "source": [
    "## Project 3 – Group 3\n",
    "#### Due Date: April 20, 2023\n",
    "#### Project Team: Dominique Villarreal, Edward Torres, Enrique Garcia, Jose Santos, Robert Dupont"
   ]
  },
  {
   "cell_type": "code",
   "execution_count": 7,
   "id": "9d61c691",
   "metadata": {},
   "outputs": [],
   "source": [
    "# Setup libraries & notebook\n",
    "from pymongo import MongoClient\n",
    "from flask import Flask, render_template, request\n",
    "from pprint import pprint"
   ]
  },
  {
   "cell_type": "code",
   "execution_count": 3,
   "id": "447e9f24",
   "metadata": {},
   "outputs": [],
   "source": [
    "# Configurate MongoDB\n",
    "#mongo_config = {\"host\": \"localhost\", \"port\": 27017, \"db\":\"wineDB\", \"collection\": \"Wines\"}\n",
    "#client = MongoClient(f\"{mongodb://(mongo_config['host']}:{mongo_config['port']}/\")\n",
    "mongo = MongoClient('localhost', 27017)"
   ]
  },
  {
   "cell_type": "code",
   "execution_count": 5,
   "id": "f2b9d501",
   "metadata": {},
   "outputs": [],
   "source": [
    "# Selecting the database and the collection\n",
    "db = mongo.flask_db"
   ]
  },
  {
   "cell_type": "code",
   "execution_count": null,
   "id": "e699e31e",
   "metadata": {},
   "outputs": [],
   "source": [
    "@app.route('/')\n",
    "def index():\n",
    "    return render_template('index.html')\n",
    "\n",
    "@app.route('/api/v1.0/wines')\n",
    "def wines():\n",
    "    return('''Database''')\n",
    "\n"
   ]
  },
  {
   "cell_type": "code",
   "execution_count": 6,
   "id": "22d2514b",
   "metadata": {},
   "outputs": [],
   "source": [
    "documents = collection.find()\n",
    "for documents in documents:\n",
    "    print(document)"
   ]
  },
  {
   "cell_type": "code",
   "execution_count": 1,
   "id": "e67d3044",
   "metadata": {},
   "outputs": [
    {
     "name": "stdout",
     "output_type": "stream",
     "text": [
      " * Serving Flask app '__main__'\n",
      " * Debug mode: on\n"
     ]
    },
    {
     "name": "stderr",
     "output_type": "stream",
     "text": [
      "\u001b[31m\u001b[1mWARNING: This is a development server. Do not use it in a production deployment. Use a production WSGI server instead.\u001b[0m\n",
      " * Running on http://127.0.0.1:5000\n",
      "\u001b[33mPress CTRL+C to quit\u001b[0m\n",
      " * Restarting with stat\n",
      "Traceback (most recent call last):\n",
      "  File \"/opt/anaconda3/envs/PythonData2/lib/python3.10/site-packages/ipykernel_launcher.py\", line 17, in <module>\n",
      "    app.launch_new_instance()\n",
      "  File \"/opt/anaconda3/envs/PythonData2/lib/python3.10/site-packages/traitlets/config/application.py\", line 991, in launch_instance\n",
      "    app.initialize(argv)\n",
      "  File \"/opt/anaconda3/envs/PythonData2/lib/python3.10/site-packages/traitlets/config/application.py\", line 113, in inner\n",
      "    return method(app, *args, **kwargs)\n",
      "  File \"/opt/anaconda3/envs/PythonData2/lib/python3.10/site-packages/ipykernel/kernelapp.py\", line 665, in initialize\n",
      "    self.init_sockets()\n",
      "  File \"/opt/anaconda3/envs/PythonData2/lib/python3.10/site-packages/ipykernel/kernelapp.py\", line 309, in init_sockets\n",
      "    self.shell_port = self._bind_socket(self.shell_socket, self.shell_port)\n",
      "  File \"/opt/anaconda3/envs/PythonData2/lib/python3.10/site-packages/ipykernel/kernelapp.py\", line 246, in _bind_socket\n",
      "    return self._try_bind_socket(s, port)\n",
      "  File \"/opt/anaconda3/envs/PythonData2/lib/python3.10/site-packages/ipykernel/kernelapp.py\", line 222, in _try_bind_socket\n",
      "    s.bind(\"tcp://%s:%i\" % (self.ip, port))\n",
      "  File \"/opt/anaconda3/envs/PythonData2/lib/python3.10/site-packages/zmq/sugar/socket.py\", line 229, in bind\n",
      "    super().bind(addr)\n",
      "  File \"zmq/backend/cython/socket.pyx\", line 562, in zmq.backend.cython.socket.Socket.bind\n",
      "  File \"zmq/backend/cython/checkrc.pxd\", line 28, in zmq.backend.cython.checkrc._check_rc\n",
      "zmq.error.ZMQError: Address already in use\n"
     ]
    },
    {
     "ename": "SystemExit",
     "evalue": "1",
     "output_type": "error",
     "traceback": [
      "An exception has occurred, use %tb to see the full traceback.\n",
      "\u001b[0;31mSystemExit\u001b[0m\u001b[0;31m:\u001b[0m 1\n"
     ]
    },
    {
     "name": "stderr",
     "output_type": "stream",
     "text": [
      "/opt/anaconda3/envs/PythonData2/lib/python3.10/site-packages/IPython/core/interactiveshell.py:3468: UserWarning: To exit: use 'exit', 'quit', or Ctrl-D.\n",
      "  warn(\"To exit: use 'exit', 'quit', or Ctrl-D.\", stacklevel=1)\n"
     ]
    }
   ],
   "source": [
    "from flask import Flask, jsonify\n",
    "from pymongo import MongoClient\n",
    "\n",
    "app = Flask(__name__)\n",
    "\n",
    "# Define the MongoDB connection details\n",
    "client = MongoClient('localhost', 27017)\n",
    "\n",
    "# Define the collections to use\n",
    "wine_collection = client['wineDB']['Wines']\n",
    "country_collection = client['wineDB']['country']\n",
    "region_collection = client['wineDB']['region']\n",
    "\n",
    "@app.route('/wines')\n",
    "def get_wines():\n",
    "    # Retrieve all documents from the Wines collection\n",
    "    wines = list(wine_collection.find())\n",
    "    # Return the wines as a JSON object\n",
    "    return jsonify(wines)\n",
    "\n",
    "@app.route('/countries')\n",
    "def get_countries():\n",
    "    # Retrieve all documents from the country collection\n",
    "    countries = list(country_collection.find())\n",
    "    # Return the countries as a JSON object\n",
    "    return jsonify(countries)\n",
    "\n",
    "@app.route('/regions')\n",
    "def get_regions():\n",
    "    # Retrieve all documents from the region collection\n",
    "    regions = list(region_collection.find())\n",
    "    # Return the regions as a JSON object\n",
    "    return jsonify(regions)\n",
    "\n",
    "if __name__ == '__main__':\n",
    "    app.run(debug=True)"
   ]
  },
  {
   "cell_type": "code",
   "execution_count": null,
   "id": "391b6da7",
   "metadata": {},
   "outputs": [],
   "source": []
  },
  {
   "cell_type": "code",
   "execution_count": null,
   "id": "7545a77e",
   "metadata": {},
   "outputs": [],
   "source": []
  }
 ],
 "metadata": {
  "kernelspec": {
   "display_name": "PythonData2",
   "language": "python",
   "name": "pythondata2"
  },
  "language_info": {
   "codemirror_mode": {
    "name": "ipython",
    "version": 3
   },
   "file_extension": ".py",
   "mimetype": "text/x-python",
   "name": "python",
   "nbconvert_exporter": "python",
   "pygments_lexer": "ipython3",
   "version": "3.10.9"
  }
 },
 "nbformat": 4,
 "nbformat_minor": 5
}
