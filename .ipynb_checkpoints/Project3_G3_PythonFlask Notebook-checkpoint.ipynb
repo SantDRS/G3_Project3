{
 "cells": [
  {
   "attachments": {},
   "cell_type": "markdown",
   "id": "8abded9f",
   "metadata": {},
   "source": [
    "## Project 3 – Group 3\n",
    "#### Due Date: April 20, 2023\n",
    "#### Project Team: Dominique Villarreal, Edward Torres, Enrique Garcia, Jose Santos, Robert Dupont"
   ]
  },
  {
   "cell_type": "code",
   "execution_count": 7,
   "id": "801d16b3",
   "metadata": {},
   "outputs": [],
   "source": [
    "# Setup libraries & notebook\n",
    "from pymongo import MongoClient\n",
    "from flask import Flask, render_template, request\n",
    "from pprint import pprint"
   ]
  },
  {
   "cell_type": "code",
   "execution_count": 3,
   "id": "432fc187",
   "metadata": {},
   "outputs": [],
   "source": [
    "# Configurate MongoDB\n",
    "#mongo_config = {\"host\": \"localhost\", \"port\": 27017, \"db\":\"wineDB\", \"collection\": \"Wines\"}\n",
    "#client = MongoClient(f\"{mongodb://(mongo_config['host']}:{mongo_config['port']}/\")\n",
    "mongo = MongoClient('localhost', 27017)"
   ]
  },
  {
   "cell_type": "code",
   "execution_count": 5,
   "id": "4a151a02",
   "metadata": {},
   "outputs": [],
   "source": [
    "# Selecting the database and the collection\n",
    "db = mongo.flask_db"
   ]
  },
  {
   "cell_type": "code",
   "execution_count": null,
   "id": "f10e0633",
   "metadata": {},
   "outputs": [],
   "source": [
    "@app.route('/')\n",
    "def index():\n",
    "    return render_template('index.html')\n",
    "\n",
    "@app.route('/api/v1.0/wines')\n",
    "def wines():\n",
    "    return('''Database''')\n",
    "\n"
   ]
  },
  {
   "cell_type": "code",
   "execution_count": 6,
   "id": "4f46d3f2",
   "metadata": {},
   "outputs": [],
   "source": [
    "documents = collection.find()\n",
    "for documents in documents:\n",
    "    print(document)"
   ]
  },
  {
   "cell_type": "code",
   "execution_count": null,
   "id": "11536b63",
   "metadata": {},
   "outputs": [],
   "source": []
  }
 ],
 "metadata": {
  "kernelspec": {
   "display_name": "PythonData2",
   "language": "python",
   "name": "pythondata2"
  },
  "language_info": {
   "codemirror_mode": {
    "name": "ipython",
    "version": 3
   },
   "file_extension": ".py",
   "mimetype": "text/x-python",
   "name": "python",
   "nbconvert_exporter": "python",
   "pygments_lexer": "ipython3",
   "version": "3.10.9"
  }
 },
 "nbformat": 4,
 "nbformat_minor": 5
}
