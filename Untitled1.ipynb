{
 "cells": [
  {
   "cell_type": "code",
   "execution_count": 1,
   "id": "29b5bc9b",
   "metadata": {},
   "outputs": [],
   "source": [
    "# Import dependencies\n",
    "from pymongo import MongoClient\n",
    "from pprint import pprint"
   ]
  },
  {
   "cell_type": "code",
   "execution_count": 2,
   "id": "f1b622a8",
   "metadata": {},
   "outputs": [
    {
     "name": "stdout",
     "output_type": "stream",
     "text": [
      "['admin', 'config', 'fruits_db', 'local', 'met', 'petsitly_marketing', 'uk_food', 'wineDB']\n"
     ]
    }
   ],
   "source": [
    "# Create an instance of MongoClient\n",
    "mongo = MongoClient (port=27017)\n",
    "\n",
    "# Confirm that the *DATABASE NAME* database is in MongoDB\n",
    "print(mongo.list_database_names ( ) )"
   ]
  },
  {
   "cell_type": "code",
   "execution_count": 3,
   "id": "4f1b0a74",
   "metadata": {},
   "outputs": [],
   "source": [
    "# Assign the database to a variable name\n",
    "db = mongo['wineDB']"
   ]
  },
  {
   "cell_type": "code",
   "execution_count": 4,
   "id": "24106f27",
   "metadata": {},
   "outputs": [
    {
     "name": "stdout",
     "output_type": "stream",
     "text": [
      "['Wines']\n"
     ]
    }
   ],
   "source": [
    "# Review the collections in our new database\n",
    "print(db.list_collection_names ( ) )"
   ]
  },
  {
   "cell_type": "code",
   "execution_count": 5,
   "id": "6dda1e5c",
   "metadata": {},
   "outputs": [],
   "source": [
    "Wines = db['Wines']"
   ]
  },
  {
   "cell_type": "code",
   "execution_count": 17,
   "id": "42f4b6f5",
   "metadata": {},
   "outputs": [
    {
     "name": "stdout",
     "output_type": "stream",
     "text": [
      "{'_id': ObjectId('643de81ad70f49ef739a3605'),\n",
      " 'average rating': 4.6,\n",
      " 'country': 'France',\n",
      " 'id': 'd0212',\n",
      " 'image': 'https://images.vivino.com/thumbs/uKfpO95XTki64kTtw0nd6g_pb_x300.png',\n",
      " 'region': 'Alsace',\n",
      " 'review count': 46,\n",
      " 'varietal': 'Riesling',\n",
      " 'wine': 'Riesling Vendange Tardive 1988',\n",
      " 'wine type': 'Dessert',\n",
      " 'winery': 'Hugel'}\n",
      "{'_id': ObjectId('643de81ad70f49ef739a3606'),\n",
      " 'average rating': 4.6,\n",
      " 'country': 'France',\n",
      " 'id': 'd0224',\n",
      " 'image': 'https://images.vivino.com/thumbs/IsfUrv3GRSiEGKE0pNgwKw_pb_x300.png',\n",
      " 'region': 'Alsace Grand Cru',\n",
      " 'review count': 37,\n",
      " 'varietal': 'Riesling',\n",
      " 'wine': 'Riesling Alsace Grand Cru Schlossberg Vendanges Tardives 2006',\n",
      " 'wine type': 'Dessert',\n",
      " 'winery': 'Domaine Weinbach'}\n",
      "{'_id': ObjectId('643de81ad70f49ef739a3607'),\n",
      " 'average rating': 4.6,\n",
      " 'country': 'France',\n",
      " 'id': 'd0234',\n",
      " 'image': 'https://images.vivino.com/thumbs/pEJOkvA6Q1qv9FO4hwS-VQ_pb_x300.png',\n",
      " 'region': 'Alsace',\n",
      " 'review count': 35,\n",
      " 'varietal': 'Pinot Gris',\n",
      " 'wine': 'Sélection de Grains Nobles Pinot Gris N.V.',\n",
      " 'wine type': 'Dessert',\n",
      " 'winery': 'Josmeyer'}\n",
      "{'_id': ObjectId('643de81ad70f49ef739a3608'),\n",
      " 'average rating': 4.6,\n",
      " 'country': 'France',\n",
      " 'id': 'd0242',\n",
      " 'image': 'https://thumbs.vivino.com/avatars/SSr1WHH_QW2gz_yxE6v1EQ_50x50.jpg',\n",
      " 'region': \"Alsace Grand Cru 'Rangen'\",\n",
      " 'review count': 31,\n",
      " 'varietal': 'Pinot Gris',\n",
      " 'wine': \"Clos Saint-Théobald Pinot Gris Alsace Grand Cru 'Rangen' Sélection \"\n",
      "         'de Grains Nobles 2002',\n",
      " 'wine type': 'Dessert',\n",
      " 'winery': 'Domaine Schoffit'}\n",
      "{'_id': ObjectId('643de81ad70f49ef739a3609'),\n",
      " 'average rating': 4.6,\n",
      " 'country': 'Italy',\n",
      " 'id': 'd0243',\n",
      " 'image': 'https://images.vivino.com/thumbs/TJ-fW0loTkWg6kBtSKdsfg_pb_x300.png',\n",
      " 'region': 'Calabria',\n",
      " 'review count': 30,\n",
      " 'varietal': 'Moscato',\n",
      " 'wine': 'Passito Moscato 2007',\n",
      " 'wine type': 'Dessert',\n",
      " 'winery': 'Cantine Viola'}\n"
     ]
    }
   ],
   "source": [
    "# Create a query that sorts in ascending order by last_service\n",
    "query = {}\n",
    "sort = [('id', 1)]\n",
    "\n",
    "# Capture the results to a variable\n",
    "results = Wines.find(query).sort(sort)\n",
    "\n",
    "# Pretty print the first five results\n",
    "for i in range(5):\n",
    "    pprint(results[i])"
   ]
  },
  {
   "cell_type": "code",
   "execution_count": null,
   "id": "11937de7",
   "metadata": {},
   "outputs": [],
   "source": []
  }
 ],
 "metadata": {
  "kernelspec": {
   "display_name": "Python 3 (ipykernel)",
   "language": "python",
   "name": "python3"
  },
  "language_info": {
   "codemirror_mode": {
    "name": "ipython",
    "version": 3
   },
   "file_extension": ".py",
   "mimetype": "text/x-python",
   "name": "python",
   "nbconvert_exporter": "python",
   "pygments_lexer": "ipython3",
   "version": "3.9.13"
  }
 },
 "nbformat": 4,
 "nbformat_minor": 5
}
